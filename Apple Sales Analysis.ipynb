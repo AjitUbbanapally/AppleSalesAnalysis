{
 "cells": [
  {
   "cell_type": "code",
   "execution_count": 46,
   "id": "01ba227f-a42a-436c-b256-a0886a02440d",
   "metadata": {},
   "outputs": [],
   "source": [
    "from pyspark.sql import SparkSession\n",
    "from pyspark.sql.functions import col, count, avg, unix_timestamp, lag, row_number\n",
    "from pyspark.sql.functions import year, to_date\n",
    "from pyspark.sql.functions import date_format\n",
    "from pyspark.sql.functions import sum\n",
    "from pyspark.sql.window import Window\n",
    "from pyspark.sql import functions as F"
   ]
  },
  {
   "cell_type": "code",
   "execution_count": 47,
   "id": "a79960e7-4875-421f-8c21-18f6818b4c25",
   "metadata": {},
   "outputs": [],
   "source": [
    "spark = SparkSession.builder.appName(\"Apple Sales Analysis\").getOrCreate()"
   ]
  },
  {
   "cell_type": "code",
   "execution_count": 48,
   "id": "604e59f4-a6a7-4021-960d-d842f201472a",
   "metadata": {},
   "outputs": [],
   "source": [
    "customers_df = spark.read.csv(\"Customer_Updated1.csv\", header=True, inferSchema=True)\n",
    "products_df = spark.read.csv(\"Products_updated.csv\", header=True, inferSchema=True)\n",
    "transactions_df = spark.read.csv(\"Transaction_Updated1.csv\", header=True, inferSchema=True)"
   ]
  },
  {
   "cell_type": "code",
   "execution_count": 49,
   "id": "51d75fb3-3731-4f11-b559-2cd2d1a53f94",
   "metadata": {},
   "outputs": [
    {
     "name": "stdout",
     "output_type": "stream",
     "text": [
      "+-----------+-------------------+\n",
      "|customer_id|      customer_name|\n",
      "+-----------+-------------------+\n",
      "|        100|  Elizabeth Daniels|\n",
      "|        101|Jeffrey Walters PhD|\n",
      "|        102|       Daniel Young|\n",
      "|        103|        Kevin Grant|\n",
      "|        104|  Hunter Williamson|\n",
      "|        105|       Gerald Moran|\n",
      "|        106|          Toni Hill|\n",
      "|        107|     Felicia Gordon|\n",
      "|        109|   Kimberly Kaufman|\n",
      "|        111|      Richard Smith|\n",
      "|        113|       Carol Torres|\n",
      "|        114|     Richard Golden|\n",
      "|        115|    Angela Richards|\n",
      "|        116|  Christopher White|\n",
      "|        117|      Paul Ferguson|\n",
      "|        118|        Robert Peck|\n",
      "|        119|        Peter Zhang|\n",
      "|        120|         Juan Lopez|\n",
      "|        121|      Shirley Lucas|\n",
      "|        122|      Tracy Mcguire|\n",
      "+-----------+-------------------+\n",
      "only showing top 20 rows\n",
      "\n"
     ]
    }
   ],
   "source": [
    "# Goal 1: Identifying customers who purchased both iPhones and AirPods\n",
    "iphone_and_airpods = transactions_df.filter(\n",
    "    (col('product_name').like('%iPhone%')) | (col('product_name').like('%AirPod%'))\n",
    ").groupBy('customer_id').agg(\n",
    "    F.countDistinct('product_name').alias('distinct_purchases')\n",
    ").filter(\n",
    "    col('distinct_purchases') == 2  # Ensure both iPhone and AirPods are purchased\n",
    ").select('customer_id')\n",
    "\n",
    "# Join with customers_df to get customer names\n",
    "customer_info = customers_df.join(iphone_and_airpods, on='customer_id', how='inner') \\\n",
    "    .select('customer_id', 'customer_name')\n",
    "\n",
    "# Show the result\n",
    "customer_info.show()"
   ]
  },
  {
   "cell_type": "code",
   "execution_count": 50,
   "id": "982ccc33-1e6d-4192-b234-b2e1204e0ebb",
   "metadata": {},
   "outputs": [
    {
     "name": "stdout",
     "output_type": "stream",
     "text": [
      "+-----------+-------------------+\n",
      "|customer_id|      customer_name|\n",
      "+-----------+-------------------+\n",
      "|        100|  Elizabeth Daniels|\n",
      "|        101|Jeffrey Walters PhD|\n",
      "|        102|       Daniel Young|\n",
      "|        103|        Kevin Grant|\n",
      "|        104|  Hunter Williamson|\n",
      "|        105|       Gerald Moran|\n",
      "|        106|          Toni Hill|\n",
      "|        107|     Felicia Gordon|\n",
      "|        109|   Kimberly Kaufman|\n",
      "|        111|      Richard Smith|\n",
      "|        113|       Carol Torres|\n",
      "|        114|     Richard Golden|\n",
      "|        115|    Angela Richards|\n",
      "|        116|  Christopher White|\n",
      "|        117|      Paul Ferguson|\n",
      "|        118|        Robert Peck|\n",
      "|        119|        Peter Zhang|\n",
      "|        120|         Juan Lopez|\n",
      "|        121|      Shirley Lucas|\n",
      "|        122|      Tracy Mcguire|\n",
      "+-----------+-------------------+\n",
      "only showing top 20 rows\n",
      "\n"
     ]
    }
   ],
   "source": [
    "# Goal 2: Finding customers who bought only iPhones and AirPods and no other products\n",
    "iphone_airpods_only = transactions_df.filter(\n",
    "    (col('product_name').like('%iPhone%')) | (col('product_name').like('%AirPod%'))\n",
    ").groupBy('customer_id').agg(\n",
    "    F.countDistinct('product_name').alias('distinct_products')\n",
    ").filter(\n",
    "    col('distinct_products') == 2  # Ensure only iPhone and AirPod are bought, no other products\n",
    ").select('customer_id')\n",
    "\n",
    "# Join with customers_df to get customer names\n",
    "customer_info = customers_df.join(iphone_airpods_only, on='customer_id', how='inner') \\\n",
    "    .select('customer_id', 'customer_name')\n",
    "\n",
    "# Show the result\n",
    "customer_info.show()"
   ]
  },
  {
   "cell_type": "code",
   "execution_count": 52,
   "id": "e32f5330-b1af-46ad-bc43-02d5c48ec852",
   "metadata": {},
   "outputs": [
    {
     "name": "stdout",
     "output_type": "stream",
     "text": [
      "+----------+------------------+\n",
      "|  category|         avg_price|\n",
      "+----------+------------------+\n",
      "| Accessory|1008.4539939332659|\n",
      "|    Laptop| 979.5555555555555|\n",
      "|    Tablet| 993.6969696969697|\n",
      "|Smartphone|  986.046696472926|\n",
      "+----------+------------------+\n",
      "\n"
     ]
    }
   ],
   "source": [
    "# Query to compute average price by category\n",
    "avg_price_by_category = products_df.groupBy(\"category\").agg(avg(\"price\").alias(\"avg_price\"))\n",
    "avg_price_by_category.show()"
   ]
  },
  {
   "cell_type": "code",
   "execution_count": 53,
   "id": "f89f99d1-d257-4b9b-8e20-f72f74fa0e79",
   "metadata": {},
   "outputs": [
    {
     "name": "stdout",
     "output_type": "stream",
     "text": [
      "+----------+-------------+\n",
      "|  category|product_count|\n",
      "+----------+-------------+\n",
      "| Accessory|         1978|\n",
      "|    Laptop|         2016|\n",
      "|    Tablet|         1980|\n",
      "|Smartphone|         4026|\n",
      "+----------+-------------+\n",
      "\n"
     ]
    }
   ],
   "source": [
    "# Query to count products by category\n",
    "product_count_by_category = products_df.groupBy(\"category\").agg(count(\"product_id\").alias(\"product_count\"))\n",
    "product_count_by_category.show()"
   ]
  },
  {
   "cell_type": "code",
   "execution_count": 54,
   "id": "69b0b6a6-99bb-4757-982b-e8746c2a437b",
   "metadata": {},
   "outputs": [
    {
     "name": "stdout",
     "output_type": "stream",
     "text": [
      "+--------------------+--------------+\n",
      "|            location|customer_count|\n",
      "+--------------------+--------------+\n",
      "|     Patrickbury, CO|             1|\n",
      "|     Port George, HI|             1|\n",
      "|   West Meredith, UT|             1|\n",
      "|   Lake Jennifer, IN|             1|\n",
      "|      Sandraview, CT|             1|\n",
      "|        Markfort, NH|             1|\n",
      "|     Kennethfort, MN|             1|\n",
      "|       Jamesview, RI|             1|\n",
      "|    New Markview, AZ|             1|\n",
      "| East Sarahburgh, AL|             1|\n",
      "|      Torresberg, FL|             1|\n",
      "|North Michelefort...|             1|\n",
      "|        Goodbury, MA|             1|\n",
      "|South Kennethfurt...|             1|\n",
      "|       Calebstad, IA|             1|\n",
      "|    South Joseph, WA|             1|\n",
      "|   Mitchellhaven, NH|             1|\n",
      "| South Maryhaven, FL|             1|\n",
      "|Lake Russellville...|             1|\n",
      "|      Port Scott, VA|             1|\n",
      "+--------------------+--------------+\n",
      "only showing top 20 rows\n",
      "\n"
     ]
    }
   ],
   "source": [
    "# Query to count customers by location\n",
    "customers_by_location = customers_df.groupBy(\"location\").agg(count(\"customer_id\").alias(\"customer_count\"))\n",
    "customers_by_location.show()"
   ]
  },
  {
   "cell_type": "code",
   "execution_count": 55,
   "id": "7417f70f-746b-4c96-a482-6438fc4ea5ef",
   "metadata": {},
   "outputs": [
    {
     "name": "stdout",
     "output_type": "stream",
     "text": [
      "+------------------+--------------+\n",
      "|          location|customer_count|\n",
      "+------------------+--------------+\n",
      "|   South Sarah, ME|             3|\n",
      "|Stephaniemouth, NY|             2|\n",
      "|  East Anthony, CA|             2|\n",
      "|   Kristinside, WA|             2|\n",
      "|     Julieview, UT|             2|\n",
      "|   New Melissa, AR|             2|\n",
      "|     Brownbury, AR|             2|\n",
      "|    East David, HI|             2|\n",
      "| West Kimberly, OH|             2|\n",
      "|   Johnsontown, VA|             2|\n",
      "+------------------+--------------+\n",
      "\n"
     ]
    }
   ],
   "source": [
    "# Query to count customers by location and sort in descending order\n",
    "top_locations = (\n",
    "    customers_df.groupBy(\"location\")\n",
    "    .agg(count(\"customer_id\").alias(\"customer_count\"))\n",
    "    .orderBy(\"customer_count\", ascending=False)\n",
    "    .limit(10)\n",
    ")\n",
    "\n",
    "top_locations.show()"
   ]
  },
  {
   "cell_type": "code",
   "execution_count": 56,
   "id": "74764570-6d44-4358-bd20-559ea2fb4d57",
   "metadata": {},
   "outputs": [
    {
     "name": "stdout",
     "output_type": "stream",
     "text": [
      "+------------+-----------+\n",
      "|product_name|sales_count|\n",
      "+------------+-----------+\n",
      "|      iPhone|       2047|\n",
      "| Apple Watch|       2038|\n",
      "|     AirPods|       1989|\n",
      "|     MacBook|       1987|\n",
      "|        iPad|       1939|\n",
      "+------------+-----------+\n",
      "\n"
     ]
    }
   ],
   "source": [
    "# Group by product_name and count transactions\n",
    "top_products = transactions_df.groupBy(\"product_name\") \\\n",
    "    .agg(count(\"transaction_id\").alias(\"sales_count\")) \\\n",
    "    .orderBy(col(\"sales_count\").desc())\n",
    "\n",
    "top_products.show(10)  # Display top 10 products"
   ]
  },
  {
   "cell_type": "code",
   "execution_count": 59,
   "id": "cd0d1792-9f93-4987-a0fb-832b4a245f8f",
   "metadata": {},
   "outputs": [
    {
     "name": "stdout",
     "output_type": "stream",
     "text": [
      "+-----------+-----------------+\n",
      "|customer_id|transaction_count|\n",
      "+-----------+-----------------+\n",
      "|        876|               24|\n",
      "|        253|               24|\n",
      "|        816|               24|\n",
      "|        605|               23|\n",
      "|        365|               21|\n",
      "|        384|               20|\n",
      "|        437|               20|\n",
      "|        994|               20|\n",
      "|        708|               20|\n",
      "|        468|               20|\n",
      "+-----------+-----------------+\n",
      "only showing top 10 rows\n",
      "\n"
     ]
    }
   ],
   "source": [
    "# Group by customer_id and count transactions to find most frequent customers\n",
    "most_frequent_customers = transactions_df.groupBy(\"customer_id\") \\\n",
    "    .agg(count(\"transaction_id\").alias(\"transaction_count\")) \\\n",
    "    .orderBy(col(\"transaction_count\").desc())\n",
    "\n",
    "most_frequent_customers.show(10)"
   ]
  },
  {
   "cell_type": "code",
   "execution_count": 60,
   "id": "7d9605cc-e4c0-4617-b7e4-f44cf108cde9",
   "metadata": {},
   "outputs": [
    {
     "name": "stdout",
     "output_type": "stream",
     "text": [
      "+-----------+-------------------+----------+--------------------+-----------------+\n",
      "|customer_id|      customer_name| join_date|            location|transaction_count|\n",
      "+-----------+-------------------+----------+--------------------+-----------------+\n",
      "|        596|     Joseph Stevens| 2/22/2019|     Rachelshire, RI|               13|\n",
      "|        673|    Crystal Beltran|11/12/2024|East Kristinhaven...|               14|\n",
      "|        586|Mr. Daniel King Jr.|11/14/2023|       Wuchester, AL|               12|\n",
      "|        182|     Savannah Johns| 7/21/2019|        Tinafort, MD|                4|\n",
      "|        217|         Tonya Kemp| 1/10/2021|      Martinside, VT|               11|\n",
      "|        311|        Curtis Rice|10/22/2015|    New Annatown, SD|                8|\n",
      "|        381|     Frank Franklin|  3/9/2015|Lake Michaelchest...|               15|\n",
      "|        495|      Mario Maxwell|10/20/2023|      Hermantown, WI|               10|\n",
      "|        621|        Amanda Hess|  3/8/2016|   Howardborough, NJ|               10|\n",
      "|        758|       Robert Jones| 6/20/2015|      Hamptonton, MO|                8|\n",
      "|        792|        Heather Kim| 1/10/2021|        Bassfurt, NE|               12|\n",
      "|        860|  Patricia Williams| 6/22/2022|      Lake Jason, MO|               10|\n",
      "|        880|     Casey Ferguson|  4/7/2021|     New Anthony, IN|                6|\n",
      "|        193|         Jason Khan|  7/1/2023|      Vazquezton, TN|               15|\n",
      "|        250|       Shawn Harris|  6/1/2021| North Sarahport, TX|                9|\n",
      "|        303|    Thomas Morrison|12/16/2021|     Robertshire, CA|               19|\n",
      "|        314|     Anthony Werner|10/29/2020| East Kevinshire, NY|                9|\n",
      "|        367|      Lisa Caldwell| 4/23/2022|       Frankbury, SC|                7|\n",
      "|        646|      Amanda Wilson|  6/7/2015|  Gwendolynmouth, PA|               14|\n",
      "|        721|        Hunter Yang| 5/21/2019|      Burchshire, KY|                8|\n",
      "+-----------+-------------------+----------+--------------------+-----------------+\n",
      "only showing top 20 rows\n",
      "\n"
     ]
    }
   ],
   "source": [
    "# Perform an inner join between customer and transaction datasets on customer_id\n",
    "customer_transactions = customers_df.join(\n",
    "    transactions_df,\n",
    "    on=\"customer_id\",\n",
    "    how=\"inner\"\n",
    ")\n",
    "\n",
    "# Group by customer details and count the number of transactions per customer\n",
    "customer_transaction_summary = customer_transactions.groupBy(\n",
    "    \"customer_id\", \"customer_name\", \"join_date\", \"location\"\n",
    ").agg(\n",
    "    count(\"transaction_id\").alias(\"transaction_count\")\n",
    ")\n",
    "\n",
    "customer_transaction_summary.show()"
   ]
  },
  {
   "cell_type": "code",
   "execution_count": 61,
   "id": "37dd482b-a158-42ba-bb78-f3ba4093d993",
   "metadata": {},
   "outputs": [
    {
     "name": "stdout",
     "output_type": "stream",
     "text": [
      "+------------+-----------+\n",
      "|product_name|order_count|\n",
      "+------------+-----------+\n",
      "|      iPhone|          3|\n",
      "|        iPad|          2|\n",
      "|     MacBook|          2|\n",
      "| Apple Watch|          2|\n",
      "|     AirPods|          2|\n",
      "+------------+-----------+\n",
      "\n"
     ]
    }
   ],
   "source": [
    "# Assume your DataFrame is named 'transactions'\n",
    "# Step 1: Filter by customer_id\n",
    "filtered_data = transactions_df.filter(col(\"customer_id\") == 863)\n",
    " \n",
    "# Step 2: Group by product_name and count\n",
    "product_counts = (\n",
    "    filtered_data.groupBy(\"product_name\")\n",
    "    .agg(count(\"*\").alias(\"order_count\"))\n",
    "    .orderBy(col(\"order_count\").desc())\n",
    ")\n",
    " \n",
    "# Step 3: Show results\n",
    "product_counts.show()"
   ]
  },
  {
   "cell_type": "code",
   "execution_count": null,
   "id": "1e7ca805-fba0-4546-b758-4a08aaa6775f",
   "metadata": {},
   "outputs": [],
   "source": []
  }
 ],
 "metadata": {
  "kernelspec": {
   "display_name": "Python 3 (ipykernel)",
   "language": "python",
   "name": "python3"
  },
  "language_info": {
   "codemirror_mode": {
    "name": "ipython",
    "version": 3
   },
   "file_extension": ".py",
   "mimetype": "text/x-python",
   "name": "python",
   "nbconvert_exporter": "python",
   "pygments_lexer": "ipython3",
   "version": "3.12.7"
  }
 },
 "nbformat": 4,
 "nbformat_minor": 5
}
